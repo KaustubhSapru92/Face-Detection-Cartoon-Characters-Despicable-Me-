{
 "cells": [
  {
   "cell_type": "code",
   "execution_count": 2,
   "metadata": {},
   "outputs": [],
   "source": [
    "import pandas as pd"
   ]
  },
  {
   "cell_type": "code",
   "execution_count": 115,
   "metadata": {},
   "outputs": [
    {
     "data": {
      "text/html": [
       "<div>\n",
       "<style scoped>\n",
       "    .dataframe tbody tr th:only-of-type {\n",
       "        vertical-align: middle;\n",
       "    }\n",
       "\n",
       "    .dataframe tbody tr th {\n",
       "        vertical-align: top;\n",
       "    }\n",
       "\n",
       "    .dataframe thead th {\n",
       "        text-align: right;\n",
       "    }\n",
       "</style>\n",
       "<table border=\"1\" class=\"dataframe\">\n",
       "  <thead>\n",
       "    <tr style=\"text-align: right;\">\n",
       "      <th></th>\n",
       "      <th>Frame</th>\n",
       "      <th>Story</th>\n",
       "      <th>Scene (point of view)</th>\n",
       "      <th>Camera</th>\n",
       "      <th>Unnamed: 4</th>\n",
       "    </tr>\n",
       "  </thead>\n",
       "  <tbody>\n",
       "    <tr>\n",
       "      <th>0</th>\n",
       "      <td>121</td>\n",
       "      <td>0</td>\n",
       "      <td>1</td>\n",
       "      <td>0</td>\n",
       "      <td>NaN</td>\n",
       "    </tr>\n",
       "    <tr>\n",
       "      <th>1</th>\n",
       "      <td>260</td>\n",
       "      <td>0</td>\n",
       "      <td>1</td>\n",
       "      <td>0</td>\n",
       "      <td>NaN</td>\n",
       "    </tr>\n",
       "    <tr>\n",
       "      <th>2</th>\n",
       "      <td>355</td>\n",
       "      <td>0</td>\n",
       "      <td>0</td>\n",
       "      <td>1</td>\n",
       "      <td>NaN</td>\n",
       "    </tr>\n",
       "    <tr>\n",
       "      <th>3</th>\n",
       "      <td>607</td>\n",
       "      <td>0</td>\n",
       "      <td>1</td>\n",
       "      <td>0</td>\n",
       "      <td>NaN</td>\n",
       "    </tr>\n",
       "    <tr>\n",
       "      <th>4</th>\n",
       "      <td>676</td>\n",
       "      <td>1</td>\n",
       "      <td>0</td>\n",
       "      <td>0</td>\n",
       "      <td>Awaiting Grus response to reading the bedime s...</td>\n",
       "    </tr>\n",
       "  </tbody>\n",
       "</table>\n",
       "</div>"
      ],
      "text/plain": [
       "   Frame  Story  Scene (point of view)  Camera  \\\n",
       "0    121      0                      1       0   \n",
       "1    260      0                      1       0   \n",
       "2    355      0                      0       1   \n",
       "3    607      0                      1       0   \n",
       "4    676      1                      0       0   \n",
       "\n",
       "                                          Unnamed: 4  \n",
       "0                                                NaN  \n",
       "1                                                NaN  \n",
       "2                                                NaN  \n",
       "3                                                NaN  \n",
       "4  Awaiting Grus response to reading the bedime s...  "
      ]
     },
     "execution_count": 115,
     "metadata": {},
     "output_type": "execute_result"
    }
   ],
   "source": [
    "scenes = pd.read_excel('C:\\\\Users\\\\lenovo\\\\Downloads\\\\Despicable_Me_English_scenes.xlsx')\n",
    "scenes.head()"
   ]
  },
  {
   "cell_type": "code",
   "execution_count": 116,
   "metadata": {},
   "outputs": [
    {
     "data": {
      "text/plain": [
       "157"
      ]
     },
     "execution_count": 116,
     "metadata": {},
     "output_type": "execute_result"
    }
   ],
   "source": [
    "scene_cuts = scenes.Frame\n",
    "len(scene_cuts)"
   ]
  },
  {
   "cell_type": "code",
   "execution_count": 147,
   "metadata": {},
   "outputs": [],
   "source": [
    "predictions = pd.read_csv('C:\\\\Users\\\\lenovo\\\\Downloads\\\\labelled_Frames_1-18000_Clip1.csv')"
   ]
  },
  {
   "cell_type": "code",
   "execution_count": 118,
   "metadata": {},
   "outputs": [
    {
     "data": {
      "text/html": [
       "<div>\n",
       "<style scoped>\n",
       "    .dataframe tbody tr th:only-of-type {\n",
       "        vertical-align: middle;\n",
       "    }\n",
       "\n",
       "    .dataframe tbody tr th {\n",
       "        vertical-align: top;\n",
       "    }\n",
       "\n",
       "    .dataframe thead th {\n",
       "        text-align: right;\n",
       "    }\n",
       "</style>\n",
       "<table border=\"1\" class=\"dataframe\">\n",
       "  <thead>\n",
       "    <tr style=\"text-align: right;\">\n",
       "      <th></th>\n",
       "      <th>Image_Name</th>\n",
       "      <th>Predicted_Classes</th>\n",
       "      <th>BBox_coordinates</th>\n",
       "      <th>Image_Width</th>\n",
       "      <th>Image_Height</th>\n",
       "    </tr>\n",
       "  </thead>\n",
       "  <tbody>\n",
       "    <tr>\n",
       "      <th>0</th>\n",
       "      <td>frame00001.jpg</td>\n",
       "      <td>[2 1 0]</td>\n",
       "      <td>[[835.3295  291.3014  913.9798  369.05664]\\n [...</td>\n",
       "      <td>1024</td>\n",
       "      <td>768</td>\n",
       "    </tr>\n",
       "    <tr>\n",
       "      <th>1</th>\n",
       "      <td>frame00002.jpg</td>\n",
       "      <td>[2 1 0]</td>\n",
       "      <td>[[835.146   291.9459  914.49274 367.57812]\\n [...</td>\n",
       "      <td>1024</td>\n",
       "      <td>768</td>\n",
       "    </tr>\n",
       "    <tr>\n",
       "      <th>2</th>\n",
       "      <td>frame00003.jpg</td>\n",
       "      <td>[2 1 0]</td>\n",
       "      <td>[[835.0733  291.6679  914.835   368.29776]\\n [...</td>\n",
       "      <td>1024</td>\n",
       "      <td>768</td>\n",
       "    </tr>\n",
       "    <tr>\n",
       "      <th>3</th>\n",
       "      <td>frame00004.jpg</td>\n",
       "      <td>[2 1 0]</td>\n",
       "      <td>[[835.16974 291.79443 914.70154 367.92   ]\\n [...</td>\n",
       "      <td>1024</td>\n",
       "      <td>768</td>\n",
       "    </tr>\n",
       "    <tr>\n",
       "      <th>4</th>\n",
       "      <td>frame00005.jpg</td>\n",
       "      <td>[2 1 0]</td>\n",
       "      <td>[[824.16174 292.4523  901.3177  369.149  ]\\n [...</td>\n",
       "      <td>1024</td>\n",
       "      <td>768</td>\n",
       "    </tr>\n",
       "  </tbody>\n",
       "</table>\n",
       "</div>"
      ],
      "text/plain": [
       "       Image_Name Predicted_Classes  \\\n",
       "0  frame00001.jpg           [2 1 0]   \n",
       "1  frame00002.jpg           [2 1 0]   \n",
       "2  frame00003.jpg           [2 1 0]   \n",
       "3  frame00004.jpg           [2 1 0]   \n",
       "4  frame00005.jpg           [2 1 0]   \n",
       "\n",
       "                                    BBox_coordinates  Image_Width  \\\n",
       "0  [[835.3295  291.3014  913.9798  369.05664]\\n [...         1024   \n",
       "1  [[835.146   291.9459  914.49274 367.57812]\\n [...         1024   \n",
       "2  [[835.0733  291.6679  914.835   368.29776]\\n [...         1024   \n",
       "3  [[835.16974 291.79443 914.70154 367.92   ]\\n [...         1024   \n",
       "4  [[824.16174 292.4523  901.3177  369.149  ]\\n [...         1024   \n",
       "\n",
       "   Image_Height  \n",
       "0           768  \n",
       "1           768  \n",
       "2           768  \n",
       "3           768  \n",
       "4           768  "
      ]
     },
     "execution_count": 118,
     "metadata": {},
     "output_type": "execute_result"
    }
   ],
   "source": [
    "predictions.head()"
   ]
  },
  {
   "cell_type": "code",
   "execution_count": 40,
   "metadata": {},
   "outputs": [
    {
     "data": {
      "text/plain": [
       "'[]'"
      ]
     },
     "execution_count": 40,
     "metadata": {},
     "output_type": "execute_result"
    }
   ],
   "source": [
    "predictions.Predicted_Classes[808]"
   ]
  },
  {
   "cell_type": "code",
   "execution_count": 214,
   "metadata": {},
   "outputs": [
    {
     "data": {
      "text/plain": [
       "''"
      ]
     },
     "execution_count": 214,
     "metadata": {},
     "output_type": "execute_result"
    }
   ],
   "source": [
    "predictions.BBox_coordinates[860][1:-1]"
   ]
  },
  {
   "cell_type": "code",
   "execution_count": 9,
   "metadata": {},
   "outputs": [
    {
     "data": {
      "text/plain": [
       "array(['[835.3295  291.3014  913.9798  369.05664]',\n",
       "       '[463.24588 529.8761  505.9071  575.6811 ]',\n",
       "       '[358.81644 414.97327 395.41806 462.7567 ]'], dtype='<U41')"
      ]
     },
     "execution_count": 9,
     "metadata": {},
     "output_type": "execute_result"
    }
   ],
   "source": [
    "import numpy as np\n",
    "arr = np.asarray(predictions.BBox_coordinates[0][1:-1].split('\\n '))\n",
    "arr"
   ]
  },
  {
   "cell_type": "code",
   "execution_count": 113,
   "metadata": {},
   "outputs": [],
   "source": [
    "a = 1\n",
    "incorrect_frame = []\n",
    "for i in range(len(scene_cuts)):\n",
    "    for j in range(a,scene_cuts[i]):\n",
    "        if ((predictions.Predicted_Classes[j] == '[]') and (predictions.Predicted_Classes[j-1] != '[]') and (predictions.Predicted_Classes[j+1] != '[]')):\n",
    "            incorrect_frame.append(predictions.Image_Name[j])\n",
    "    a = scene_cuts[i]+1"
   ]
  },
  {
   "cell_type": "code",
   "execution_count": 11,
   "metadata": {},
   "outputs": [
    {
     "data": {
      "text/plain": [
       "numpy.ndarray"
      ]
     },
     "execution_count": 11,
     "metadata": {},
     "output_type": "execute_result"
    }
   ],
   "source": [
    "from scipy.signal import medfilt\n",
    "x = [np.asarray('[1 2 3]'),np.asarray('[]'),np.array('[1 2 3]')]\n",
    "type(x[0])"
   ]
  },
  {
   "cell_type": "code",
   "execution_count": 14,
   "metadata": {},
   "outputs": [
    {
     "ename": "TypeError",
     "evalue": "Cannot cast array data from dtype('float64') to dtype('<U32') according to the rule 'safe'",
     "output_type": "error",
     "traceback": [
      "\u001b[1;31m---------------------------------------------------------------------------\u001b[0m",
      "\u001b[1;31mTypeError\u001b[0m                                 Traceback (most recent call last)",
      "\u001b[1;32m<ipython-input-14-2dc356350b62>\u001b[0m in \u001b[0;36m<module>\u001b[1;34m\u001b[0m\n\u001b[0;32m      1\u001b[0m \u001b[1;32mimport\u001b[0m \u001b[0mscipy\u001b[0m\u001b[1;33m\u001b[0m\u001b[1;33m\u001b[0m\u001b[0m\n\u001b[1;32m----> 2\u001b[1;33m \u001b[0my\u001b[0m \u001b[1;33m=\u001b[0m \u001b[0mscipy\u001b[0m\u001b[1;33m.\u001b[0m\u001b[0msignal\u001b[0m\u001b[1;33m.\u001b[0m\u001b[0mmedfilt\u001b[0m\u001b[1;33m(\u001b[0m\u001b[0mx\u001b[0m\u001b[1;33m,\u001b[0m\u001b[1;36m5\u001b[0m\u001b[1;33m)\u001b[0m\u001b[1;33m\u001b[0m\u001b[1;33m\u001b[0m\u001b[0m\n\u001b[0m\u001b[0;32m      3\u001b[0m \u001b[0my\u001b[0m\u001b[1;33m\u001b[0m\u001b[1;33m\u001b[0m\u001b[0m\n",
      "\u001b[1;32m~\\anaconda3\\lib\\site-packages\\scipy\\signal\\signaltools.py\u001b[0m in \u001b[0;36mmedfilt\u001b[1;34m(volume, kernel_size)\u001b[0m\n\u001b[0;32m   1407\u001b[0m     \u001b[0mnumels\u001b[0m \u001b[1;33m=\u001b[0m \u001b[0mnp\u001b[0m\u001b[1;33m.\u001b[0m\u001b[0mprod\u001b[0m\u001b[1;33m(\u001b[0m\u001b[0mkernel_size\u001b[0m\u001b[1;33m,\u001b[0m \u001b[0maxis\u001b[0m\u001b[1;33m=\u001b[0m\u001b[1;36m0\u001b[0m\u001b[1;33m)\u001b[0m\u001b[1;33m\u001b[0m\u001b[1;33m\u001b[0m\u001b[0m\n\u001b[0;32m   1408\u001b[0m     \u001b[0morder\u001b[0m \u001b[1;33m=\u001b[0m \u001b[0mnumels\u001b[0m \u001b[1;33m//\u001b[0m \u001b[1;36m2\u001b[0m\u001b[1;33m\u001b[0m\u001b[1;33m\u001b[0m\u001b[0m\n\u001b[1;32m-> 1409\u001b[1;33m     \u001b[1;32mreturn\u001b[0m \u001b[0msigtools\u001b[0m\u001b[1;33m.\u001b[0m\u001b[0m_order_filterND\u001b[0m\u001b[1;33m(\u001b[0m\u001b[0mvolume\u001b[0m\u001b[1;33m,\u001b[0m \u001b[0mdomain\u001b[0m\u001b[1;33m,\u001b[0m \u001b[0morder\u001b[0m\u001b[1;33m)\u001b[0m\u001b[1;33m\u001b[0m\u001b[1;33m\u001b[0m\u001b[0m\n\u001b[0m\u001b[0;32m   1410\u001b[0m \u001b[1;33m\u001b[0m\u001b[0m\n\u001b[0;32m   1411\u001b[0m \u001b[1;33m\u001b[0m\u001b[0m\n",
      "\u001b[1;31mTypeError\u001b[0m: Cannot cast array data from dtype('float64') to dtype('<U32') according to the rule 'safe'"
     ]
    }
   ],
   "source": [
    "import scipy\n",
    "y = scipy.signal.medfilt(x,5)\n",
    "y"
   ]
  },
  {
   "cell_type": "code",
   "execution_count": 79,
   "metadata": {},
   "outputs": [
    {
     "data": {
      "text/plain": [
       "array([list([]), list([]), list([]), list([1, 2, 3])], dtype=object)"
      ]
     },
     "execution_count": 79,
     "metadata": {},
     "output_type": "execute_result"
    }
   ],
   "source": [
    "y"
   ]
  },
  {
   "cell_type": "code",
   "execution_count": 12,
   "metadata": {},
   "outputs": [
    {
     "data": {
      "text/plain": [
       "str"
      ]
     },
     "execution_count": 12,
     "metadata": {},
     "output_type": "execute_result"
    }
   ],
   "source": [
    "[predictions.Predicted_Classes[1],predictions.Predicted_Classes[1]]\n",
    "type(predictions.Predicted_Classes[1])"
   ]
  },
  {
   "cell_type": "code",
   "execution_count": 15,
   "metadata": {
    "scrolled": true
   },
   "outputs": [
    {
     "ename": "TypeError",
     "evalue": "Cannot cast array data from dtype('float64') to dtype('<U32') according to the rule 'safe'",
     "output_type": "error",
     "traceback": [
      "\u001b[1;31m---------------------------------------------------------------------------\u001b[0m",
      "\u001b[1;31mTypeError\u001b[0m                                 Traceback (most recent call last)",
      "\u001b[1;32m<ipython-input-15-72752c3bc3d2>\u001b[0m in \u001b[0;36m<module>\u001b[1;34m\u001b[0m\n\u001b[0;32m      3\u001b[0m     \u001b[1;32mif\u001b[0m \u001b[0mpredictions\u001b[0m\u001b[1;33m.\u001b[0m\u001b[0mImage_Name\u001b[0m\u001b[1;33m[\u001b[0m\u001b[0mi\u001b[0m\u001b[1;33m]\u001b[0m \u001b[1;33m==\u001b[0m \u001b[0mincorrect_frame\u001b[0m\u001b[1;33m[\u001b[0m\u001b[0ma\u001b[0m\u001b[1;33m]\u001b[0m\u001b[1;33m:\u001b[0m\u001b[1;33m\u001b[0m\u001b[1;33m\u001b[0m\u001b[0m\n\u001b[0;32m      4\u001b[0m         \u001b[0mx\u001b[0m \u001b[1;33m=\u001b[0m \u001b[1;33m[\u001b[0m\u001b[0mpredictions\u001b[0m\u001b[1;33m.\u001b[0m\u001b[0mPredicted_Classes\u001b[0m\u001b[1;33m[\u001b[0m\u001b[0mi\u001b[0m\u001b[1;33m-\u001b[0m\u001b[1;36m1\u001b[0m\u001b[1;33m]\u001b[0m\u001b[1;33m,\u001b[0m\u001b[0mpredictions\u001b[0m\u001b[1;33m.\u001b[0m\u001b[0mPredicted_Classes\u001b[0m\u001b[1;33m[\u001b[0m\u001b[0mi\u001b[0m\u001b[1;33m]\u001b[0m\u001b[1;33m,\u001b[0m\u001b[0mpredictions\u001b[0m\u001b[1;33m.\u001b[0m\u001b[0mPredicted_Classes\u001b[0m\u001b[1;33m[\u001b[0m\u001b[0mi\u001b[0m\u001b[1;33m+\u001b[0m\u001b[1;36m1\u001b[0m\u001b[1;33m]\u001b[0m\u001b[1;33m]\u001b[0m\u001b[1;33m\u001b[0m\u001b[1;33m\u001b[0m\u001b[0m\n\u001b[1;32m----> 5\u001b[1;33m         \u001b[0my\u001b[0m \u001b[1;33m=\u001b[0m \u001b[0mscipy\u001b[0m\u001b[1;33m.\u001b[0m\u001b[0msignal\u001b[0m\u001b[1;33m.\u001b[0m\u001b[0mmedfilt\u001b[0m\u001b[1;33m(\u001b[0m\u001b[0mx\u001b[0m\u001b[1;33m,\u001b[0m\u001b[1;36m5\u001b[0m\u001b[1;33m)\u001b[0m\u001b[1;33m\u001b[0m\u001b[1;33m\u001b[0m\u001b[0m\n\u001b[0m\u001b[0;32m      6\u001b[0m         \u001b[0mpredictions\u001b[0m\u001b[1;33m.\u001b[0m\u001b[0mPredicted_Classes\u001b[0m\u001b[1;33m[\u001b[0m\u001b[0mi\u001b[0m\u001b[1;33m]\u001b[0m \u001b[1;33m=\u001b[0m \u001b[0my\u001b[0m\u001b[1;33m[\u001b[0m\u001b[1;36m1\u001b[0m\u001b[1;33m]\u001b[0m\u001b[1;33m\u001b[0m\u001b[1;33m\u001b[0m\u001b[0m\n\u001b[0;32m      7\u001b[0m         \u001b[0ma\u001b[0m \u001b[1;33m=\u001b[0m \u001b[0ma\u001b[0m\u001b[1;33m+\u001b[0m\u001b[1;36m1\u001b[0m\u001b[1;33m\u001b[0m\u001b[1;33m\u001b[0m\u001b[0m\n",
      "\u001b[1;32m~\\anaconda3\\lib\\site-packages\\scipy\\signal\\signaltools.py\u001b[0m in \u001b[0;36mmedfilt\u001b[1;34m(volume, kernel_size)\u001b[0m\n\u001b[0;32m   1407\u001b[0m     \u001b[0mnumels\u001b[0m \u001b[1;33m=\u001b[0m \u001b[0mnp\u001b[0m\u001b[1;33m.\u001b[0m\u001b[0mprod\u001b[0m\u001b[1;33m(\u001b[0m\u001b[0mkernel_size\u001b[0m\u001b[1;33m,\u001b[0m \u001b[0maxis\u001b[0m\u001b[1;33m=\u001b[0m\u001b[1;36m0\u001b[0m\u001b[1;33m)\u001b[0m\u001b[1;33m\u001b[0m\u001b[1;33m\u001b[0m\u001b[0m\n\u001b[0;32m   1408\u001b[0m     \u001b[0morder\u001b[0m \u001b[1;33m=\u001b[0m \u001b[0mnumels\u001b[0m \u001b[1;33m//\u001b[0m \u001b[1;36m2\u001b[0m\u001b[1;33m\u001b[0m\u001b[1;33m\u001b[0m\u001b[0m\n\u001b[1;32m-> 1409\u001b[1;33m     \u001b[1;32mreturn\u001b[0m \u001b[0msigtools\u001b[0m\u001b[1;33m.\u001b[0m\u001b[0m_order_filterND\u001b[0m\u001b[1;33m(\u001b[0m\u001b[0mvolume\u001b[0m\u001b[1;33m,\u001b[0m \u001b[0mdomain\u001b[0m\u001b[1;33m,\u001b[0m \u001b[0morder\u001b[0m\u001b[1;33m)\u001b[0m\u001b[1;33m\u001b[0m\u001b[1;33m\u001b[0m\u001b[0m\n\u001b[0m\u001b[0;32m   1410\u001b[0m \u001b[1;33m\u001b[0m\u001b[0m\n\u001b[0;32m   1411\u001b[0m \u001b[1;33m\u001b[0m\u001b[0m\n",
      "\u001b[1;31mTypeError\u001b[0m: Cannot cast array data from dtype('float64') to dtype('<U32') according to the rule 'safe'"
     ]
    }
   ],
   "source": [
    "a = 0\n",
    "for i in range(len(predictions)):\n",
    "    if predictions.Image_Name[i] == incorrect_frame[a]:\n",
    "        x = [predictions.Predicted_Classes[i-1],predictions.Predicted_Classes[i],predictions.Predicted_Classes[i+1]]\n",
    "        y = scipy.signal.medfilt(x,5)\n",
    "        predictions.Predicted_Classes[i] = y[1]\n",
    "        a = a+1"
   ]
  },
  {
   "cell_type": "code",
   "execution_count": 15,
   "metadata": {},
   "outputs": [
    {
     "data": {
      "text/plain": [
       "['2', '1', '0']"
      ]
     },
     "execution_count": 15,
     "metadata": {},
     "output_type": "execute_result"
    }
   ],
   "source": [
    "a = predictions.Predicted_Classes[0][1:-1].split()\n",
    "a"
   ]
  },
  {
   "cell_type": "code",
   "execution_count": 131,
   "metadata": {},
   "outputs": [],
   "source": [
    "b = []\n",
    "for i in range(len(a)):\n",
    "    b.append(float(a[i]))"
   ]
  },
  {
   "cell_type": "code",
   "execution_count": 144,
   "metadata": {},
   "outputs": [
    {
     "ename": "TypeError",
     "evalue": "float() argument must be a string or a number, not 'list'",
     "output_type": "error",
     "traceback": [
      "\u001b[1;31m---------------------------------------------------------------------------\u001b[0m",
      "\u001b[1;31mTypeError\u001b[0m                                 Traceback (most recent call last)",
      "\u001b[1;32m<ipython-input-144-f510a02a8bb7>\u001b[0m in \u001b[0;36m<module>\u001b[1;34m\u001b[0m\n\u001b[0;32m      1\u001b[0m \u001b[0mx\u001b[0m \u001b[1;33m=\u001b[0m \u001b[1;33m[\u001b[0m\u001b[1;34m'[1 2 3]'\u001b[0m\u001b[1;33m,\u001b[0m\u001b[1;34m'[]'\u001b[0m\u001b[1;33m,\u001b[0m\u001b[1;34m'[1 2 3]'\u001b[0m\u001b[1;33m]\u001b[0m\u001b[1;33m\u001b[0m\u001b[1;33m\u001b[0m\u001b[0m\n\u001b[1;32m----> 2\u001b[1;33m \u001b[0mfloat\u001b[0m\u001b[1;33m(\u001b[0m\u001b[0mx\u001b[0m\u001b[1;33m[\u001b[0m\u001b[1;36m1\u001b[0m\u001b[1;33m]\u001b[0m\u001b[1;33m[\u001b[0m\u001b[1;36m1\u001b[0m\u001b[1;33m:\u001b[0m\u001b[1;33m-\u001b[0m\u001b[1;36m1\u001b[0m\u001b[1;33m]\u001b[0m\u001b[1;33m.\u001b[0m\u001b[0msplit\u001b[0m\u001b[1;33m(\u001b[0m\u001b[1;33m)\u001b[0m\u001b[1;33m)\u001b[0m\u001b[1;33m\u001b[0m\u001b[1;33m\u001b[0m\u001b[0m\n\u001b[0m",
      "\u001b[1;31mTypeError\u001b[0m: float() argument must be a string or a number, not 'list'"
     ]
    }
   ],
   "source": [
    "x = ['[1 2 3]','[]','[1 2 3]']\n",
    "float(x[1][1:-1].split())"
   ]
  },
  {
   "cell_type": "code",
   "execution_count": 16,
   "metadata": {},
   "outputs": [],
   "source": [
    "def str_flt(array):\n",
    "    z= []\n",
    "    b= []\n",
    "    for value in array:\n",
    "        a = value[1:-1].split()\n",
    "        for j in a:\n",
    "            b.append(float(j))\n",
    "        z.append(b)\n",
    "        b=[]\n",
    "    return z"
   ]
  },
  {
   "cell_type": "code",
   "execution_count": 17,
   "metadata": {},
   "outputs": [
    {
     "ename": "IndexError",
     "evalue": "too many indices for array",
     "output_type": "error",
     "traceback": [
      "\u001b[1;31m---------------------------------------------------------------------------\u001b[0m",
      "\u001b[1;31mIndexError\u001b[0m                                Traceback (most recent call last)",
      "\u001b[1;32m<ipython-input-17-79f5b2e2fd49>\u001b[0m in \u001b[0;36m<module>\u001b[1;34m\u001b[0m\n\u001b[1;32m----> 1\u001b[1;33m \u001b[0mstr_flt\u001b[0m\u001b[1;33m(\u001b[0m\u001b[0mx\u001b[0m\u001b[1;33m)\u001b[0m\u001b[1;33m\u001b[0m\u001b[1;33m\u001b[0m\u001b[0m\n\u001b[0m",
      "\u001b[1;32m<ipython-input-16-397b8065d284>\u001b[0m in \u001b[0;36mstr_flt\u001b[1;34m(array)\u001b[0m\n\u001b[0;32m      3\u001b[0m     \u001b[0mb\u001b[0m\u001b[1;33m=\u001b[0m \u001b[1;33m[\u001b[0m\u001b[1;33m]\u001b[0m\u001b[1;33m\u001b[0m\u001b[1;33m\u001b[0m\u001b[0m\n\u001b[0;32m      4\u001b[0m     \u001b[1;32mfor\u001b[0m \u001b[0mvalue\u001b[0m \u001b[1;32min\u001b[0m \u001b[0marray\u001b[0m\u001b[1;33m:\u001b[0m\u001b[1;33m\u001b[0m\u001b[1;33m\u001b[0m\u001b[0m\n\u001b[1;32m----> 5\u001b[1;33m         \u001b[0ma\u001b[0m \u001b[1;33m=\u001b[0m \u001b[0mvalue\u001b[0m\u001b[1;33m[\u001b[0m\u001b[1;36m1\u001b[0m\u001b[1;33m:\u001b[0m\u001b[1;33m-\u001b[0m\u001b[1;36m1\u001b[0m\u001b[1;33m]\u001b[0m\u001b[1;33m.\u001b[0m\u001b[0msplit\u001b[0m\u001b[1;33m(\u001b[0m\u001b[1;33m)\u001b[0m\u001b[1;33m\u001b[0m\u001b[1;33m\u001b[0m\u001b[0m\n\u001b[0m\u001b[0;32m      6\u001b[0m         \u001b[1;32mfor\u001b[0m \u001b[0mj\u001b[0m \u001b[1;32min\u001b[0m \u001b[0ma\u001b[0m\u001b[1;33m:\u001b[0m\u001b[1;33m\u001b[0m\u001b[1;33m\u001b[0m\u001b[0m\n\u001b[0;32m      7\u001b[0m             \u001b[0mb\u001b[0m\u001b[1;33m.\u001b[0m\u001b[0mappend\u001b[0m\u001b[1;33m(\u001b[0m\u001b[0mfloat\u001b[0m\u001b[1;33m(\u001b[0m\u001b[0mj\u001b[0m\u001b[1;33m)\u001b[0m\u001b[1;33m)\u001b[0m\u001b[1;33m\u001b[0m\u001b[1;33m\u001b[0m\u001b[0m\n",
      "\u001b[1;31mIndexError\u001b[0m: too many indices for array"
     ]
    }
   ],
   "source": [
    "str_flt(x)"
   ]
  },
  {
   "cell_type": "code",
   "execution_count": 17,
   "metadata": {},
   "outputs": [
    {
     "data": {
      "text/plain": [
       "[[[263.54312, 198.36362, 628.97186, 502.66623]],\n",
       " [[]],\n",
       " [[270.38492, 193.1295, 631.6211, 500.0294]]]"
      ]
     },
     "execution_count": 17,
     "metadata": {},
     "output_type": "execute_result"
    }
   ],
   "source": [
    "x = [predictions.BBox_coordinates[859][1:-1].split('\\n '),predictions.BBox_coordinates[860][1:-1].split('\\n '),predictions.BBox_coordinates[861][1:-1].split('\\n ')]\n",
    "d = []\n",
    "for c in x:\n",
    "    d.append(str_flt(c))\n",
    "d"
   ]
  },
  {
   "cell_type": "code",
   "execution_count": 20,
   "metadata": {},
   "outputs": [
    {
     "data": {
      "text/plain": [
       "array([[0],\n",
       "       [0],\n",
       "       [0]], dtype=object)"
      ]
     },
     "execution_count": 20,
     "metadata": {},
     "output_type": "execute_result"
    }
   ],
   "source": [
    "y = scipy.signal.medfilt(d,5)\n",
    "y"
   ]
  },
  {
   "cell_type": "code",
   "execution_count": 114,
   "metadata": {},
   "outputs": [
    {
     "name": "stderr",
     "output_type": "stream",
     "text": [
      "C:\\Users\\lenovo\\anaconda3\\lib\\site-packages\\ipykernel_launcher.py:8: SettingWithCopyWarning: \n",
      "A value is trying to be set on a copy of a slice from a DataFrame\n",
      "\n",
      "See the caveats in the documentation: https://pandas.pydata.org/pandas-docs/stable/user_guide/indexing.html#returning-a-view-versus-a-copy\n",
      "  \n"
     ]
    }
   ],
   "source": [
    "a = 0\n",
    "for i in range(len(predictions)):\n",
    "    if a < len(incorrect_frame):\n",
    "        if predictions.Image_Name[i] == incorrect_frame[a]:\n",
    "            x = [predictions.Predicted_Classes[i-1],predictions.Predicted_Classes[i],predictions.Predicted_Classes[i+1]]\n",
    "            x = str_flt(x)\n",
    "            y = scipy.signal.medfilt(x,5)\n",
    "            predictions.Predicted_Classes[i] = y[1]\n",
    "            a = a+1"
   ]
  },
  {
   "cell_type": "code",
   "execution_count": 19,
   "metadata": {},
   "outputs": [
    {
     "data": {
      "text/plain": [
       "18001"
      ]
     },
     "execution_count": 19,
     "metadata": {},
     "output_type": "execute_result"
    }
   ],
   "source": [
    "len(predictions.Image_Name)"
   ]
  },
  {
   "cell_type": "code",
   "execution_count": 20,
   "metadata": {},
   "outputs": [
    {
     "data": {
      "text/plain": [
       "['[835.3295  291.3014  913.9798  369.05664]',\n",
       " '[463.24588 529.8761  505.9071  575.6811 ]',\n",
       " '[358.81644 414.97327 395.41806 462.7567 ]']"
      ]
     },
     "execution_count": 20,
     "metadata": {},
     "output_type": "execute_result"
    }
   ],
   "source": [
    "a = predictions.BBox_coordinates[0][1:-1].split('\\n ')\n",
    "a"
   ]
  },
  {
   "cell_type": "code",
   "execution_count": 21,
   "metadata": {},
   "outputs": [
    {
     "data": {
      "text/plain": [
       "'835.3295'"
      ]
     },
     "execution_count": 21,
     "metadata": {},
     "output_type": "execute_result"
    }
   ],
   "source": [
    "a = predictions.BBox_coordinates[0][1:-1].split('\\n')\n",
    "b = a[0][1:-1].split()\n",
    "b[0]"
   ]
  },
  {
   "cell_type": "code",
   "execution_count": 22,
   "metadata": {},
   "outputs": [
    {
     "data": {
      "text/plain": [
       "[835.3295,\n",
       " 291.3014,\n",
       " 913.9798,\n",
       " 369.05664,\n",
       " 463.24588,\n",
       " 529.8761,\n",
       " 505.9071,\n",
       " 575.6811,\n",
       " 358.81644,\n",
       " 414.97327,\n",
       " 395.41806,\n",
       " 462.7567]"
      ]
     },
     "execution_count": 22,
     "metadata": {},
     "output_type": "execute_result"
    }
   ],
   "source": [
    "f = []\n",
    "for string in predictions.BBox_coordinates[0][1:-1].split('\\n '):\n",
    "    b = string[1:-1].split()\n",
    "    for value in b :\n",
    "        f.append(float(value))\n",
    "f"
   ]
  },
  {
   "cell_type": "code",
   "execution_count": 23,
   "metadata": {},
   "outputs": [
    {
     "data": {
      "text/plain": [
       "[[835.3295, 291.3014, 913.9798, 369.05664],\n",
       " [463.24588, 529.8761, 505.9071, 575.6811],\n",
       " [358.81644, 414.97327, 395.41806, 462.7567]]"
      ]
     },
     "execution_count": 23,
     "metadata": {},
     "output_type": "execute_result"
    }
   ],
   "source": [
    "str_flt(predictions.BBox_coordinates[0][1:-1].split('\\n '))"
   ]
  },
  {
   "cell_type": "code",
   "execution_count": 24,
   "metadata": {},
   "outputs": [],
   "source": [
    "x = [predictions.BBox_coordinates[0][1:-1].split('\\n '), [], predictions.BBox_coordinates[1][1:-1].split('\\n ')]\n",
    "\n",
    "a2 = str_flt(x[2])\n",
    "a0 = str_flt(x[0])"
   ]
  },
  {
   "cell_type": "code",
   "execution_count": 26,
   "metadata": {},
   "outputs": [
    {
     "data": {
      "text/plain": [
       "array([list([[835.146, 291.9459, 914.49274, 367.57812], [463.01462, 530.4817, 505.40686, 575.7999], [357.86865, 414.55933, 395.26297, 462.42426]]),\n",
       "       list([[835.146, 291.9459, 914.49274, 367.57812], [463.01462, 530.4817, 505.40686, 575.7999], [357.86865, 414.55933, 395.26297, 462.42426]]),\n",
       "       list([[835.146, 291.9459, 914.49274, 367.57812], [463.01462, 530.4817, 505.40686, 575.7999], [357.86865, 414.55933, 395.26297, 462.42426]])],\n",
       "      dtype=object)"
      ]
     },
     "execution_count": 26,
     "metadata": {},
     "output_type": "execute_result"
    }
   ],
   "source": [
    "y = scipy.signal.medfilt([a0,[],a2],5)\n",
    "y"
   ]
  },
  {
   "cell_type": "code",
   "execution_count": 24,
   "metadata": {},
   "outputs": [],
   "source": [
    "x = [[835.3295, 291.3014, 913.9798, 369.05664],[],[]]"
   ]
  },
  {
   "cell_type": "code",
   "execution_count": 28,
   "metadata": {},
   "outputs": [],
   "source": [
    "X = pd.Series([1,3])\n",
    "Y = pd.Series([[835.3295, 291.3014, 913.9798, 369.05664],[835.146, 291.9459, 914.49274, 367.57812]])"
   ]
  },
  {
   "cell_type": "code",
   "execution_count": 108,
   "metadata": {},
   "outputs": [
    {
     "ename": "AttributeError",
     "evalue": "'list' object has no attribute 'split'",
     "output_type": "error",
     "traceback": [
      "\u001b[1;31m---------------------------------------------------------------------------\u001b[0m",
      "\u001b[1;31mAttributeError\u001b[0m                            Traceback (most recent call last)",
      "\u001b[1;32m<ipython-input-108-943071dc9a6e>\u001b[0m in \u001b[0;36m<module>\u001b[1;34m\u001b[0m\n\u001b[0;32m      4\u001b[0m         \u001b[1;32mif\u001b[0m \u001b[0mpredictions\u001b[0m\u001b[1;33m.\u001b[0m\u001b[0mImage_Name\u001b[0m\u001b[1;33m[\u001b[0m\u001b[0mi\u001b[0m\u001b[1;33m]\u001b[0m \u001b[1;33m==\u001b[0m \u001b[0mincorrect_frame\u001b[0m\u001b[1;33m[\u001b[0m\u001b[0ma\u001b[0m\u001b[1;33m]\u001b[0m\u001b[1;33m:\u001b[0m\u001b[1;33m\u001b[0m\u001b[1;33m\u001b[0m\u001b[0m\n\u001b[0;32m      5\u001b[0m             \u001b[0mx\u001b[0m \u001b[1;33m=\u001b[0m \u001b[1;33m[\u001b[0m\u001b[0mpredictions\u001b[0m\u001b[1;33m.\u001b[0m\u001b[0mPredicted_Classes\u001b[0m\u001b[1;33m[\u001b[0m\u001b[0mi\u001b[0m\u001b[1;33m-\u001b[0m\u001b[1;36m1\u001b[0m\u001b[1;33m]\u001b[0m\u001b[1;33m,\u001b[0m\u001b[0mpredictions\u001b[0m\u001b[1;33m.\u001b[0m\u001b[0mPredicted_Classes\u001b[0m\u001b[1;33m[\u001b[0m\u001b[0mi\u001b[0m\u001b[1;33m]\u001b[0m\u001b[1;33m,\u001b[0m\u001b[0mpredictions\u001b[0m\u001b[1;33m.\u001b[0m\u001b[0mPredicted_Classes\u001b[0m\u001b[1;33m[\u001b[0m\u001b[0mi\u001b[0m\u001b[1;33m+\u001b[0m\u001b[1;36m1\u001b[0m\u001b[1;33m]\u001b[0m\u001b[1;33m]\u001b[0m\u001b[1;33m\u001b[0m\u001b[1;33m\u001b[0m\u001b[0m\n\u001b[1;32m----> 6\u001b[1;33m             \u001b[0mx\u001b[0m \u001b[1;33m=\u001b[0m \u001b[0mstr_flt\u001b[0m\u001b[1;33m(\u001b[0m\u001b[0mx\u001b[0m\u001b[1;33m)\u001b[0m\u001b[1;33m\u001b[0m\u001b[1;33m\u001b[0m\u001b[0m\n\u001b[0m\u001b[0;32m      7\u001b[0m             \u001b[0my\u001b[0m \u001b[1;33m=\u001b[0m \u001b[0mscipy\u001b[0m\u001b[1;33m.\u001b[0m\u001b[0msignal\u001b[0m\u001b[1;33m.\u001b[0m\u001b[0mmedfilt\u001b[0m\u001b[1;33m(\u001b[0m\u001b[0mx\u001b[0m\u001b[1;33m,\u001b[0m\u001b[1;36m5\u001b[0m\u001b[1;33m)\u001b[0m\u001b[1;33m\u001b[0m\u001b[1;33m\u001b[0m\u001b[0m\n\u001b[0;32m      8\u001b[0m             \u001b[0mpredictions\u001b[0m\u001b[1;33m.\u001b[0m\u001b[0mPredicted_Classes\u001b[0m\u001b[1;33m[\u001b[0m\u001b[0mi\u001b[0m\u001b[1;33m]\u001b[0m \u001b[1;33m=\u001b[0m \u001b[0my\u001b[0m\u001b[1;33m[\u001b[0m\u001b[1;36m1\u001b[0m\u001b[1;33m]\u001b[0m\u001b[1;33m\u001b[0m\u001b[1;33m\u001b[0m\u001b[0m\n",
      "\u001b[1;32m<ipython-input-16-397b8065d284>\u001b[0m in \u001b[0;36mstr_flt\u001b[1;34m(array)\u001b[0m\n\u001b[0;32m      3\u001b[0m     \u001b[0mb\u001b[0m\u001b[1;33m=\u001b[0m \u001b[1;33m[\u001b[0m\u001b[1;33m]\u001b[0m\u001b[1;33m\u001b[0m\u001b[1;33m\u001b[0m\u001b[0m\n\u001b[0;32m      4\u001b[0m     \u001b[1;32mfor\u001b[0m \u001b[0mvalue\u001b[0m \u001b[1;32min\u001b[0m \u001b[0marray\u001b[0m\u001b[1;33m:\u001b[0m\u001b[1;33m\u001b[0m\u001b[1;33m\u001b[0m\u001b[0m\n\u001b[1;32m----> 5\u001b[1;33m         \u001b[0ma\u001b[0m \u001b[1;33m=\u001b[0m \u001b[0mvalue\u001b[0m\u001b[1;33m[\u001b[0m\u001b[1;36m1\u001b[0m\u001b[1;33m:\u001b[0m\u001b[1;33m-\u001b[0m\u001b[1;36m1\u001b[0m\u001b[1;33m]\u001b[0m\u001b[1;33m.\u001b[0m\u001b[0msplit\u001b[0m\u001b[1;33m(\u001b[0m\u001b[1;33m)\u001b[0m\u001b[1;33m\u001b[0m\u001b[1;33m\u001b[0m\u001b[0m\n\u001b[0m\u001b[0;32m      6\u001b[0m         \u001b[1;32mfor\u001b[0m \u001b[0mj\u001b[0m \u001b[1;32min\u001b[0m \u001b[0ma\u001b[0m\u001b[1;33m:\u001b[0m\u001b[1;33m\u001b[0m\u001b[1;33m\u001b[0m\u001b[0m\n\u001b[0;32m      7\u001b[0m             \u001b[0mb\u001b[0m\u001b[1;33m.\u001b[0m\u001b[0mappend\u001b[0m\u001b[1;33m(\u001b[0m\u001b[0mfloat\u001b[0m\u001b[1;33m(\u001b[0m\u001b[0mj\u001b[0m\u001b[1;33m)\u001b[0m\u001b[1;33m)\u001b[0m\u001b[1;33m\u001b[0m\u001b[1;33m\u001b[0m\u001b[0m\n",
      "\u001b[1;31mAttributeError\u001b[0m: 'list' object has no attribute 'split'"
     ]
    }
   ],
   "source": [
    "a = 0\n",
    "for i in range(len(predictions)):\n",
    "    if a < len(incorrect_frame):\n",
    "        if predictions.Image_Name[i] == incorrect_frame[a]:\n",
    "            x = [predictions.Predicted_Classes[i-1],predictions.Predicted_Classes[i],predictions.Predicted_Classes[i+1]]\n",
    "            x = str_flt(x)\n",
    "            y = scipy.signal.medfilt(x,5)\n",
    "            predictions.Predicted_Classes[i] = y[1]\n",
    "            a = a+1"
   ]
  },
  {
   "cell_type": "code",
   "execution_count": 29,
   "metadata": {},
   "outputs": [
    {
     "data": {
      "text/plain": [
       "['[374.3622  420.57755 422.99817 482.1436 ]',\n",
       " '[724.6304  296.89862 766.81647 367.56592]']"
      ]
     },
     "execution_count": 29,
     "metadata": {},
     "output_type": "execute_result"
    }
   ],
   "source": [
    "predictions.BBox_coordinates[100][1:-1].split('\\n ')"
   ]
  },
  {
   "cell_type": "code",
   "execution_count": null,
   "metadata": {},
   "outputs": [],
   "source": [
    "j = 100\n",
    "for i in range(len(y)):\n",
    "    z = [predictions.BBox_coordinates[j-1],[],predictions.BBox_coordinates[j+1]]\n",
    "    "
   ]
  },
  {
   "cell_type": "code",
   "execution_count": 96,
   "metadata": {},
   "outputs": [
    {
     "data": {
      "text/plain": [
       "array([list([374.23816, 420.75012, 422.87213, 482.35513]),\n",
       "       list([374.23816, 420.75012, 422.87213, 482.35513]),\n",
       "       list([374.23816, 420.75012, 422.87213, 482.35513])], dtype=object)"
      ]
     },
     "execution_count": 96,
     "metadata": {},
     "output_type": "execute_result"
    }
   ],
   "source": [
    "j=100\n",
    "z = [predictions.BBox_coordinates[j-1][1:-1].split('\\n '),predictions.BBox_coordinates[j+1][1:-1].split('\\n ')]\n",
    "#x = [str_flt(z[0])[0],[],str_flt(z[1])[0]]\n",
    "x = [str_flt(predictions.BBox_coordinates[j-1][1:-1].split('\\n '))[0],[],str_flt(predictions.BBox_coordinates[j+1][1:-1].split('\\n '))[0]]\n",
    "p = scipy.signal.medfilt(x,5)\n",
    "p"
   ]
  },
  {
   "cell_type": "code",
   "execution_count": 84,
   "metadata": {},
   "outputs": [
    {
     "data": {
      "text/plain": [
       "['[374.23816 420.75012 422.87213 482.35513]',\n",
       " '[725.52313 295.50314 767.21173 368.8853 ]',\n",
       " '[]']"
      ]
     },
     "execution_count": 84,
     "metadata": {},
     "output_type": "execute_result"
    }
   ],
   "source": [
    "z[1].append('[]')\n",
    "z[1]"
   ]
  },
  {
   "cell_type": "code",
   "execution_count": 91,
   "metadata": {},
   "outputs": [
    {
     "ename": "IndexError",
     "evalue": "list index out of range",
     "output_type": "error",
     "traceback": [
      "\u001b[1;31m---------------------------------------------------------------------------\u001b[0m",
      "\u001b[1;31mIndexError\u001b[0m                                Traceback (most recent call last)",
      "\u001b[1;32m<ipython-input-91-d1fa5b6f6a56>\u001b[0m in \u001b[0;36m<module>\u001b[1;34m\u001b[0m\n\u001b[0;32m      2\u001b[0m \u001b[0mz\u001b[0m \u001b[1;33m=\u001b[0m \u001b[1;33m[\u001b[0m\u001b[0mpredictions\u001b[0m\u001b[1;33m.\u001b[0m\u001b[0mBBox_coordinates\u001b[0m\u001b[1;33m[\u001b[0m\u001b[0mj\u001b[0m\u001b[1;33m-\u001b[0m\u001b[1;36m1\u001b[0m\u001b[1;33m]\u001b[0m\u001b[1;33m[\u001b[0m\u001b[1;36m1\u001b[0m\u001b[1;33m:\u001b[0m\u001b[1;33m-\u001b[0m\u001b[1;36m1\u001b[0m\u001b[1;33m]\u001b[0m\u001b[1;33m.\u001b[0m\u001b[0msplit\u001b[0m\u001b[1;33m(\u001b[0m\u001b[1;34m'\\n '\u001b[0m\u001b[1;33m)\u001b[0m\u001b[1;33m,\u001b[0m\u001b[0mpredictions\u001b[0m\u001b[1;33m.\u001b[0m\u001b[0mBBox_coordinates\u001b[0m\u001b[1;33m[\u001b[0m\u001b[0mj\u001b[0m\u001b[1;33m+\u001b[0m\u001b[1;36m1\u001b[0m\u001b[1;33m]\u001b[0m\u001b[1;33m[\u001b[0m\u001b[1;36m1\u001b[0m\u001b[1;33m:\u001b[0m\u001b[1;33m-\u001b[0m\u001b[1;36m1\u001b[0m\u001b[1;33m]\u001b[0m\u001b[1;33m.\u001b[0m\u001b[0msplit\u001b[0m\u001b[1;33m(\u001b[0m\u001b[1;34m'\\n '\u001b[0m\u001b[1;33m)\u001b[0m\u001b[1;33m]\u001b[0m\u001b[1;33m\u001b[0m\u001b[1;33m\u001b[0m\u001b[0m\n\u001b[0;32m      3\u001b[0m \u001b[1;32mfor\u001b[0m \u001b[0mi\u001b[0m \u001b[1;32min\u001b[0m \u001b[0mrange\u001b[0m\u001b[1;33m(\u001b[0m\u001b[0mlen\u001b[0m\u001b[1;33m(\u001b[0m\u001b[0mp\u001b[0m\u001b[1;33m)\u001b[0m\u001b[1;33m)\u001b[0m\u001b[1;33m:\u001b[0m\u001b[1;33m\u001b[0m\u001b[1;33m\u001b[0m\u001b[0m\n\u001b[1;32m----> 4\u001b[1;33m     \u001b[1;32mif\u001b[0m \u001b[0mlen\u001b[0m\u001b[1;33m(\u001b[0m\u001b[0mz\u001b[0m\u001b[1;33m[\u001b[0m\u001b[0mi\u001b[0m\u001b[1;33m]\u001b[0m\u001b[1;33m)\u001b[0m \u001b[1;33m<\u001b[0m \u001b[0mlen\u001b[0m\u001b[1;33m(\u001b[0m\u001b[0mp\u001b[0m\u001b[1;33m)\u001b[0m\u001b[1;33m:\u001b[0m\u001b[1;33m\u001b[0m\u001b[1;33m\u001b[0m\u001b[0m\n\u001b[0m\u001b[0;32m      5\u001b[0m         \u001b[0mz\u001b[0m\u001b[1;33m[\u001b[0m\u001b[1;36m0\u001b[0m\u001b[1;33m]\u001b[0m\u001b[1;33m.\u001b[0m\u001b[0mappend\u001b[0m\u001b[1;33m(\u001b[0m\u001b[1;34m'[]'\u001b[0m\u001b[1;33m)\u001b[0m\u001b[1;33m\u001b[0m\u001b[1;33m\u001b[0m\u001b[0m\n\u001b[0;32m      6\u001b[0m         \u001b[0mx\u001b[0m \u001b[1;33m=\u001b[0m \u001b[1;33m[\u001b[0m\u001b[0mstr_flt\u001b[0m\u001b[1;33m(\u001b[0m\u001b[0mz\u001b[0m\u001b[1;33m[\u001b[0m\u001b[1;36m0\u001b[0m\u001b[1;33m]\u001b[0m\u001b[1;33m)\u001b[0m\u001b[1;33m[\u001b[0m\u001b[0mi\u001b[0m\u001b[1;33m]\u001b[0m\u001b[1;33m,\u001b[0m\u001b[1;33m[\u001b[0m\u001b[1;33m]\u001b[0m\u001b[1;33m,\u001b[0m\u001b[0mstr_flt\u001b[0m\u001b[1;33m(\u001b[0m\u001b[0mz\u001b[0m\u001b[1;33m[\u001b[0m\u001b[1;36m1\u001b[0m\u001b[1;33m]\u001b[0m\u001b[1;33m)\u001b[0m\u001b[1;33m[\u001b[0m\u001b[0mi\u001b[0m\u001b[1;33m]\u001b[0m\u001b[1;33m]\u001b[0m\u001b[1;33m\u001b[0m\u001b[1;33m\u001b[0m\u001b[0m\n",
      "\u001b[1;31mIndexError\u001b[0m: list index out of range"
     ]
    }
   ],
   "source": [
    "j = 100\n",
    "z = [predictions.BBox_coordinates[j-1][1:-1].split('\\n '),predictions.BBox_coordinates[j+1][1:-1].split('\\n ')]\n",
    "for i in range(len(p)):\n",
    "    if len(z[i]) < len(p):\n",
    "        z[0].append('[]')\n",
    "        x = [str_flt(z[0])[i],[],str_flt(z[1])[i]]\n",
    "        y = scipy.signal.medfilt(x,5)\n",
    "    elif len(z[i]) < len(p):     \n",
    "        z[1].append('[]')\n",
    "        z = [z[0],z[1],predictions.BBox_coordinates[j+2][1:-1].split('\\n ')]\n",
    "        x = [str_flt(z[0])[i],[],str_flt(z[1])[i],str_flt(z[2])[i]]\n",
    "        print(x)\n",
    "        y = scipy.signal.medfilt(x,7)\n",
    "        print(i)\n",
    "        print(y)\n",
    "    x = [str_flt(z[0])[i],[],str_flt(z[1])[i]]\n",
    "    y = scipy.signal.medfilt(x,5)\n",
    "    #print(y[1])"
   ]
  },
  {
   "cell_type": "code",
   "execution_count": 107,
   "metadata": {},
   "outputs": [
    {
     "name": "stdout",
     "output_type": "stream",
     "text": [
      "2\n",
      "[['[590.9053  284.55136 620.3447  319.81415]', '[718.3089  299.3639  765.0994  368.90268]', '[372.31143 403.02106 418.01315 462.83203]'], ['[374.23816 420.75012 422.87213 482.35513]', '[725.52313 295.50314 767.21173 368.8853 ]', '[]']]\n",
      "[[590.9053, 284.55136, 620.3447, 319.81415], [], [374.23816, 420.75012, 422.87213, 482.35513]]\n",
      "[list([374.23816, 420.75012, 422.87213, 482.35513])\n",
      " list([374.23816, 420.75012, 422.87213, 482.35513])\n",
      " list([374.23816, 420.75012, 422.87213, 482.35513])]\n",
      "[['[590.9053  284.55136 620.3447  319.81415]', '[718.3089  299.3639  765.0994  368.90268]', '[372.31143 403.02106 418.01315 462.83203]'], ['[374.23816 420.75012 422.87213 482.35513]', '[725.52313 295.50314 767.21173 368.8853 ]', '[]']]\n",
      "[[718.3089, 299.3639, 765.0994, 368.90268], [], [725.52313, 295.50314, 767.21173, 368.8853]]\n",
      "[list([725.52313, 295.50314, 767.21173, 368.8853])\n",
      " list([725.52313, 295.50314, 767.21173, 368.8853])\n",
      " list([725.52313, 295.50314, 767.21173, 368.8853])]\n",
      "[[372.31143, 403.02106, 418.01315, 462.83203], [], [], [376.79886, 446.5241, 420.65833, 499.6453]]\n",
      "[list([376.79886, 446.5241, 420.65833, 499.6453])\n",
      " list([376.79886, 446.5241, 420.65833, 499.6453])\n",
      " list([376.79886, 446.5241, 420.65833, 499.6453])\n",
      " list([376.79886, 446.5241, 420.65833, 499.6453])]\n"
     ]
    }
   ],
   "source": [
    "if len(predictions.BBox_coordinates[j-1][1:-1].split('\\n ')) < len(p):\n",
    "    print(1)\n",
    "    z = [predictions.BBox_coordinates[j-1][1:-1].split('\\n '),predictions.BBox_coordinates[j+1][1:-1].split('\\n ')]\n",
    "    z[0].append('[]')\n",
    "    print(z)\n",
    "    for i in range(len(p)):\n",
    "        x = [str_flt(z[0])[i],[],str_flt(z[1])[i]]\n",
    "        print(x)\n",
    "        y = scipy.signal.medfilt(x,5)\n",
    "        print(y)\n",
    "elif len(predictions.BBox_coordinates[j+1][1:-1].split('\\n ')) < len(p):\n",
    "    print(2)\n",
    "    for i in range(len(p)):\n",
    "        if z[1][i] == '[]':\n",
    "            z = [predictions.BBox_coordinates[j-1][1:-1].split('\\n '),predictions.BBox_coordinates[j+1][1:-1].split('\\n '),predictions.BBox_coordinates[j+2][1:-1].split('\\n ')]\n",
    "            z[1].append('[]')\n",
    "            x = [str_flt(z[0])[i],[],str_flt(z[1])[i],str_flt(z[2])[i]]\n",
    "            print(x)\n",
    "            y = scipy.signal.medfilt(x,7)\n",
    "            print(y)\n",
    "        else :\n",
    "            z = [predictions.BBox_coordinates[j-1][1:-1].split('\\n '),predictions.BBox_coordinates[j+1][1:-1].split('\\n ')]\n",
    "            z[1].append('[]')\n",
    "            print(z)\n",
    "            x = [str_flt(z[0])[i],[],str_flt(z[1])[i]]\n",
    "            print(x)\n",
    "            y = scipy.signal.medfilt(x,5)\n",
    "            print(y)\n",
    "else :\n",
    "    print(3)\n",
    "    z = [predictions.BBox_coordinates[j-1][1:-1].split('\\n '),predictions.BBox_coordinates[j+1][1:-1].split('\\n ')]\n",
    "    print(z)\n",
    "    for i in range(len(p)):\n",
    "        x = [str_flt(z[0])[i],[],str_flt(z[1])[i]]\n",
    "        print(x)\n",
    "        y = scipy.signal.medfilt(x,5)\n",
    "        print(x)"
   ]
  },
  {
   "cell_type": "code",
   "execution_count": 105,
   "metadata": {},
   "outputs": [
    {
     "data": {
      "text/plain": [
       "['[374.23816 420.75012 422.87213 482.35513]',\n",
       " '[725.52313 295.50314 767.21173 368.8853 ]']"
      ]
     },
     "execution_count": 105,
     "metadata": {},
     "output_type": "execute_result"
    }
   ],
   "source": [
    "z[1]"
   ]
  },
  {
   "cell_type": "code",
   "execution_count": 63,
   "metadata": {},
   "outputs": [
    {
     "data": {
      "text/plain": [
       "['[374.23816 420.75012 422.87213 482.35513]',\n",
       " '[725.52313 295.50314 767.21173 368.8853 ]',\n",
       " [],\n",
       " []]"
      ]
     },
     "execution_count": 63,
     "metadata": {},
     "output_type": "execute_result"
    }
   ],
   "source": [
    "z[1].append([])\n",
    "z[1]"
   ]
  },
  {
   "cell_type": "code",
   "execution_count": 70,
   "metadata": {},
   "outputs": [
    {
     "data": {
      "text/plain": [
       "array([list([]), list([]), list([]), list([1, 2, 3, 4])], dtype=object)"
      ]
     },
     "execution_count": 70,
     "metadata": {},
     "output_type": "execute_result"
    }
   ],
   "source": [
    "x = [[1,2,3,4],[],[],[1,2,3,4]]\n",
    "y = scipy.signal.medfilt(x,5)\n",
    "y"
   ]
  },
  {
   "cell_type": "code",
   "execution_count": 90,
   "metadata": {},
   "outputs": [
    {
     "data": {
      "text/plain": [
       "[['[590.9053  284.55136 620.3447  319.81415]',\n",
       "  '[718.3089  299.3639  765.0994  368.90268]',\n",
       "  '[372.31143 403.02106 418.01315 462.83203]'],\n",
       " ['[374.23816 420.75012 422.87213 482.35513]',\n",
       "  '[725.52313 295.50314 767.21173 368.8853 ]',\n",
       "  '[]'],\n",
       " ['[604.8539  299.73245 651.81006 332.86703]',\n",
       "  '[725.01544 294.83737 766.13    361.05475]',\n",
       "  '[376.79886 446.5241  420.65833 499.6453 ]']]"
      ]
     },
     "execution_count": 90,
     "metadata": {},
     "output_type": "execute_result"
    }
   ],
   "source": [
    "z = [z[0],z[1],predictions.BBox_coordinates[j+2][1:-1].split('\\n ')]\n",
    "z"
   ]
  },
  {
   "cell_type": "code",
   "execution_count": 148,
   "metadata": {},
   "outputs": [
    {
     "name": "stderr",
     "output_type": "stream",
     "text": [
      "C:\\Users\\lenovo\\anaconda3\\lib\\site-packages\\ipykernel_launcher.py:8: SettingWithCopyWarning: \n",
      "A value is trying to be set on a copy of a slice from a DataFrame\n",
      "\n",
      "See the caveats in the documentation: https://pandas.pydata.org/pandas-docs/stable/user_guide/indexing.html#returning-a-view-versus-a-copy\n",
      "  \n",
      "C:\\Users\\lenovo\\anaconda3\\lib\\site-packages\\ipykernel_launcher.py:37: SettingWithCopyWarning: \n",
      "A value is trying to be set on a copy of a slice from a DataFrame\n",
      "\n",
      "See the caveats in the documentation: https://pandas.pydata.org/pandas-docs/stable/user_guide/indexing.html#returning-a-view-versus-a-copy\n"
     ]
    },
    {
     "name": "stdout",
     "output_type": "stream",
     "text": [
      "1\n",
      "858\n",
      "2\n",
      "860\n",
      "3\n",
      "5009\n",
      "4\n",
      "5482\n",
      "5\n",
      "5505\n",
      "6\n",
      "5508\n",
      "7\n",
      "5666\n",
      "8\n",
      "6318\n",
      "9\n",
      "6721\n",
      "10\n",
      "6726\n",
      "11\n",
      "7417\n",
      "12\n",
      "7444\n",
      "13\n",
      "7499\n",
      "14\n",
      "7543\n",
      "15\n",
      "7569\n",
      "16\n",
      "7717\n",
      "17\n",
      "7719\n",
      "18\n",
      "7820\n",
      "19\n",
      "8358\n",
      "20\n",
      "8377\n",
      "21\n",
      "8379\n",
      "22\n",
      "8405\n",
      "23\n",
      "8432\n",
      "24\n",
      "8456\n",
      "25\n",
      "8459\n",
      "26\n",
      "8539\n",
      "27\n",
      "8566\n",
      "28\n",
      "8644\n",
      "29\n",
      "8698\n",
      "30\n",
      "8708\n",
      "31\n",
      "8864\n",
      "32\n",
      "8872\n"
     ]
    },
    {
     "name": "stderr",
     "output_type": "stream",
     "text": [
      "C:\\Users\\lenovo\\anaconda3\\lib\\site-packages\\ipykernel_launcher.py:16: SettingWithCopyWarning: \n",
      "A value is trying to be set on a copy of a slice from a DataFrame\n",
      "\n",
      "See the caveats in the documentation: https://pandas.pydata.org/pandas-docs/stable/user_guide/indexing.html#returning-a-view-versus-a-copy\n",
      "  app.launch_new_instance()\n"
     ]
    },
    {
     "name": "stdout",
     "output_type": "stream",
     "text": [
      "33\n",
      "9481\n",
      "34\n",
      "9760\n",
      "35\n",
      "9962\n",
      "36\n",
      "9965\n",
      "37\n",
      "10083\n",
      "38\n",
      "10090\n",
      "39\n",
      "10107\n",
      "40\n",
      "10151\n",
      "41\n",
      "10351\n",
      "42\n",
      "10486\n",
      "43\n",
      "10634\n",
      "44\n",
      "10796\n",
      "45\n",
      "10973\n",
      "46\n",
      "10995\n",
      "47\n",
      "11369\n",
      "48\n",
      "11393\n",
      "49\n",
      "11625\n",
      "50\n",
      "11628\n",
      "51\n",
      "11646\n",
      "52\n",
      "11648\n",
      "53\n",
      "11651\n",
      "54\n",
      "11653\n",
      "55\n",
      "11687\n",
      "56\n",
      "12330\n",
      "57\n",
      "12349\n",
      "58\n",
      "12353\n",
      "59\n",
      "12355\n",
      "60\n",
      "12767\n",
      "61\n",
      "13081\n",
      "62\n",
      "13107\n",
      "63\n",
      "13121\n",
      "64\n",
      "13130\n",
      "65\n",
      "13188\n",
      "66\n",
      "13291\n",
      "67\n",
      "13296\n",
      "68\n",
      "13504\n",
      "69\n",
      "13588\n",
      "70\n",
      "13636\n",
      "71\n",
      "14367\n",
      "72\n",
      "14561\n",
      "73\n",
      "14580\n",
      "74\n",
      "14854\n",
      "75\n",
      "14907\n",
      "76\n",
      "14910\n",
      "77\n",
      "14950\n",
      "78\n",
      "14969\n",
      "79\n",
      "14973\n",
      "80\n",
      "15009\n",
      "81\n",
      "15020\n",
      "82\n",
      "15111\n",
      "83\n",
      "15154\n",
      "84\n",
      "15169\n",
      "85\n",
      "15284\n",
      "86\n",
      "15692\n",
      "87\n",
      "15941\n",
      "88\n",
      "15945\n",
      "89\n",
      "16134\n",
      "90\n",
      "16293\n",
      "91\n",
      "16489\n",
      "92\n",
      "16561\n",
      "93\n",
      "16777\n",
      "94\n",
      "16862\n",
      "95\n",
      "16865\n",
      "96\n",
      "16982\n",
      "97\n",
      "16986\n",
      "98\n",
      "17027\n",
      "99\n",
      "17059\n",
      "100\n",
      "17105\n",
      "101\n",
      "17130\n",
      "102\n",
      "17138\n",
      "103\n",
      "17153\n",
      "104\n",
      "17155\n",
      "105\n",
      "17159\n",
      "106\n",
      "17235\n",
      "107\n",
      "17383\n",
      "108\n",
      "17393\n",
      "109\n",
      "17398\n",
      "110\n",
      "17459\n",
      "111\n",
      "17469\n",
      "112\n",
      "17482\n",
      "113\n",
      "17546\n",
      "114\n",
      "17550\n",
      "115\n",
      "17554\n",
      "116\n",
      "17558\n",
      "117\n",
      "17573\n"
     ]
    }
   ],
   "source": [
    "a = 0\n",
    "for i in range(len(predictions)):\n",
    "    if a < len(incorrect_frame):\n",
    "        if predictions.Image_Name[i] == incorrect_frame[a]:\n",
    "            x = [predictions.Predicted_Classes[i-1],predictions.Predicted_Classes[i],predictions.Predicted_Classes[i+1]]\n",
    "            x = str_flt(x)\n",
    "            y = scipy.signal.medfilt(x,5)\n",
    "            predictions.Predicted_Classes[i] = y[1]\n",
    "            \n",
    "            if len(predictions.BBox_coordinates[i-1][1:-1].split('\\n ')) < len(y[1]):\n",
    "                z = [predictions.BBox_coordinates[i-1][1:-1].split('\\n '),predictions.BBox_coordinates[i+1][1:-1].split('\\n ')]\n",
    "                z[0].append('[]')\n",
    "                for j in range(len(y[1])):\n",
    "                    x1 = [str_flt(z[0])[j],[],str_flt(z[1])[j]]\n",
    "                    y1 = scipy.signal.medfilt(x1,5)\n",
    "                    predictions.BBox_coordinates[i] = y1[1]\n",
    "                    \n",
    "            elif len(predictions.BBox_coordinates[i+1][1:-1].split('\\n ')) < len(y[1]):\n",
    "                for j in range(len(y[1])):\n",
    "                    if z[1][j] == '[]':\n",
    "                        z = [predictions.BBox_coordinates[i-1][1:-1].split('\\n '),predictions.BBox_coordinates[i+1][1:-1].split('\\n '),predictions.BBox_coordinates[i+2][1:-1].split('\\n ')]\n",
    "                        z[1].append('[]')\n",
    "                        x1 = [str_flt(z[0])[j],[],str_flt(z[1])[j],str_flt(z[2])[ij]]\n",
    "                        y1 = scipy.signal.medfilt(x1,7)\n",
    "                        predictions.BBox_coordinates[i] = y1[1]\n",
    "                    else :\n",
    "                        z = [predictions.BBox_coordinates[i-1][1:-1].split('\\n '),predictions.BBox_coordinates[i+1][1:-1].split('\\n ')]\n",
    "                        z[1].append('[]')\n",
    "                        x1 = [str_flt(z[0])[j],[],str_flt(z[1])[j]]\n",
    "                        y1 = scipy.signal.medfilt(x1,5)\n",
    "                        predictions.BBox_coordinates[i] = y1[1]\n",
    "            else :\n",
    "                z = [predictions.BBox_coordinates[i-1][1:-1].split('\\n '),predictions.BBox_coordinates[i+1][1:-1].split('\\n ')]\n",
    "                for j in range(len(y[1])):\n",
    "                    x1 = [str_flt(z[0])[j],[],str_flt(z[1])[j]]\n",
    "                    y1 = scipy.signal.medfilt(x1,5)\n",
    "                    predictions.BBox_coordinates[i] = y1[1]\n",
    "                    \n",
    "            a = a+1\n",
    "            print(a)\n",
    "            print(i)"
   ]
  },
  {
   "cell_type": "code",
   "execution_count": 143,
   "metadata": {},
   "outputs": [],
   "source": [
    "def Bbox_1(i,y_1,array1,array2):\n",
    "    if len(array1) < len(y_1):\n",
    "        #print(i)\n",
    "        #print(1)\n",
    "        z = [array1,array2]\n",
    "        z[0].append('[]')\n",
    "        #print(z)\n",
    "        for j in range(len(y_1)):\n",
    "            x1 = [str_flt(z[0])[j],[],str_flt(z[1])[j]]\n",
    "            #print(x1)\n",
    "            y1 = scipy.signal.medfilt(x1,5)\n",
    "            #print(y1)\n",
    "    return y1"
   ]
  },
  {
   "cell_type": "code",
   "execution_count": 157,
   "metadata": {},
   "outputs": [
    {
     "data": {
      "text/plain": [
       "Image_Name                                      frame09482.jpg\n",
       "Predicted_Classes                                        [9.0]\n",
       "BBox_coordinates     [397.0399, 167.72911, 755.2777, 497.8404]\n",
       "Image_Width                                               1024\n",
       "Image_Height                                               768\n",
       "Name: 9481, dtype: object"
      ]
     },
     "execution_count": 157,
     "metadata": {},
     "output_type": "execute_result"
    }
   ],
   "source": [
    "predictions.iloc[9481]"
   ]
  },
  {
   "cell_type": "code",
   "execution_count": null,
   "metadata": {},
   "outputs": [],
   "source": [
    "\n",
    "if len(predictions.BBox_coordinates[i-1][1:-1].split('\\n ')) < len(y[1]):\n",
    "    z = [predictions.BBox_coordinates[i-1][1:-1].split('\\n '),predictions.BBox_coordinates[i+1][1:-1].split('\\n ')]\n",
    "    z[0].append('[]')\n",
    "    for j in range(len(y[1])):\n",
    "        x1 = [str_flt(z[0])[j],[],str_flt(z[1])[j]]\n",
    "        y1 = scipy.signal.medfilt(x1,5)\n",
    "        predictions.BBox_coordinates[i] = y1[1]"
   ]
  },
  {
   "cell_type": "code",
   "execution_count": 163,
   "metadata": {},
   "outputs": [],
   "source": [
    "a = 1\n",
    "incorrect_frame = []\n",
    "for i in range(len(scene_cuts)):\n",
    "    for j in range(a,scene_cuts[i]):\n",
    "        if ((predictions.Predicted_Classes[j] == '[]') and (predictions.Predicted_Classes[j-1] != '[]') and (predictions.Predicted_Classes[j+1] == '[]') and (predictions.Predicted_Classes[j+2] != '[]')):\n",
    "            incorrect_frame.append(predictions.Image_Name[j])\n",
    "            incorrect_frame.append(predictions.Image_Name[j+1])\n",
    "    a = scene_cuts[i]+1"
   ]
  },
  {
   "cell_type": "code",
   "execution_count": 164,
   "metadata": {},
   "outputs": [
    {
     "data": {
      "text/plain": [
       "['frame05109.jpg',\n",
       " 'frame05110.jpg',\n",
       " 'frame05465.jpg',\n",
       " 'frame05466.jpg',\n",
       " 'frame05480.jpg',\n",
       " 'frame05481.jpg',\n",
       " 'frame06783.jpg',\n",
       " 'frame06784.jpg',\n",
       " 'frame06809.jpg',\n",
       " 'frame06810.jpg',\n",
       " 'frame06814.jpg',\n",
       " 'frame06815.jpg',\n",
       " 'frame06894.jpg',\n",
       " 'frame06895.jpg',\n",
       " 'frame07731.jpg',\n",
       " 'frame07732.jpg',\n",
       " 'frame07815.jpg',\n",
       " 'frame07816.jpg',\n",
       " 'frame08361.jpg',\n",
       " 'frame08362.jpg',\n",
       " 'frame08368.jpg',\n",
       " 'frame08369.jpg',\n",
       " 'frame08411.jpg',\n",
       " 'frame08412.jpg',\n",
       " 'frame08454.jpg',\n",
       " 'frame08455.jpg',\n",
       " 'frame08562.jpg',\n",
       " 'frame08563.jpg',\n",
       " 'frame08692.jpg',\n",
       " 'frame08693.jpg',\n",
       " 'frame09299.jpg',\n",
       " 'frame09300.jpg',\n",
       " 'frame09459.jpg',\n",
       " 'frame09460.jpg',\n",
       " 'frame09786.jpg',\n",
       " 'frame09787.jpg',\n",
       " 'frame09790.jpg',\n",
       " 'frame09791.jpg',\n",
       " 'frame09825.jpg',\n",
       " 'frame09826.jpg',\n",
       " 'frame09987.jpg',\n",
       " 'frame09988.jpg',\n",
       " 'frame10097.jpg',\n",
       " 'frame10098.jpg',\n",
       " 'frame10166.jpg',\n",
       " 'frame10167.jpg',\n",
       " 'frame10227.jpg',\n",
       " 'frame10228.jpg',\n",
       " 'frame10580.jpg',\n",
       " 'frame10581.jpg',\n",
       " 'frame10951.jpg',\n",
       " 'frame10952.jpg',\n",
       " 'frame10993.jpg',\n",
       " 'frame10994.jpg',\n",
       " 'frame11632.jpg',\n",
       " 'frame11633.jpg',\n",
       " 'frame11737.jpg',\n",
       " 'frame11738.jpg',\n",
       " 'frame13084.jpg',\n",
       " 'frame13085.jpg',\n",
       " 'frame13087.jpg',\n",
       " 'frame13088.jpg',\n",
       " 'frame13201.jpg',\n",
       " 'frame13202.jpg',\n",
       " 'frame13604.jpg',\n",
       " 'frame13605.jpg',\n",
       " 'frame14477.jpg',\n",
       " 'frame14478.jpg',\n",
       " 'frame14564.jpg',\n",
       " 'frame14565.jpg',\n",
       " 'frame14576.jpg',\n",
       " 'frame14577.jpg',\n",
       " 'frame14905.jpg',\n",
       " 'frame14906.jpg',\n",
       " 'frame15114.jpg',\n",
       " 'frame15115.jpg',\n",
       " 'frame15126.jpg',\n",
       " 'frame15127.jpg',\n",
       " 'frame15157.jpg',\n",
       " 'frame15158.jpg',\n",
       " 'frame16137.jpg',\n",
       " 'frame16138.jpg',\n",
       " 'frame16353.jpg',\n",
       " 'frame16354.jpg',\n",
       " 'frame16360.jpg',\n",
       " 'frame16361.jpg',\n",
       " 'frame16849.jpg',\n",
       " 'frame16850.jpg',\n",
       " 'frame17133.jpg',\n",
       " 'frame17134.jpg',\n",
       " 'frame17390.jpg',\n",
       " 'frame17391.jpg',\n",
       " 'frame17466.jpg',\n",
       " 'frame17467.jpg',\n",
       " 'frame17512.jpg',\n",
       " 'frame17513.jpg',\n",
       " 'frame17542.jpg',\n",
       " 'frame17543.jpg',\n",
       " 'frame17562.jpg',\n",
       " 'frame17563.jpg',\n",
       " 'frame17582.jpg',\n",
       " 'frame17583.jpg',\n",
       " 'frame17686.jpg',\n",
       " 'frame17687.jpg']"
      ]
     },
     "execution_count": 164,
     "metadata": {},
     "output_type": "execute_result"
    }
   ],
   "source": [
    "incorrect_frame"
   ]
  },
  {
   "cell_type": "code",
   "execution_count": null,
   "metadata": {},
   "outputs": [],
   "source": []
  }
 ],
 "metadata": {
  "kernelspec": {
   "display_name": "Python 3",
   "language": "python",
   "name": "python3"
  },
  "language_info": {
   "codemirror_mode": {
    "name": "ipython",
    "version": 3
   },
   "file_extension": ".py",
   "mimetype": "text/x-python",
   "name": "python",
   "nbconvert_exporter": "python",
   "pygments_lexer": "ipython3",
   "version": "3.7.6"
  }
 },
 "nbformat": 4,
 "nbformat_minor": 4
}
